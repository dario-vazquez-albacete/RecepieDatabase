{
 "cells": [
  {
   "cell_type": "code",
   "execution_count": 1,
   "metadata": {},
   "outputs": [
    {
     "name": "stdout",
     "output_type": "stream",
     "text": [
      "SUCCESS: Connected to the Neo4j Database.\n"
     ]
    }
   ],
   "source": [
    "import pandas as pd\n",
    "import sqlalchemy as sa\n",
    "from sqlalchemy import text\n",
    "import urllib\n",
    "import json\n",
    "from py2neo import Graph\n",
    "\n",
    "with open(\"config.json\") as json_data_file:\n",
    "    data = json.load(json_data_file)\n",
    "\n",
    "# cnxn = pyodbc.connect('DRIVER={ODBC Driver 17 for SQL Server};SERVER='+data[\"server\"]+';DATABASE='+data[\"database\"]+';ENCRYPT=no;UID='+data[\"username\"]+';PWD='+data[\"password\"])\n",
    "# cursor = cnxn.cursor()\n",
    "\n",
    "params = urllib.parse.quote_plus(\"DRIVER={SQL Server Native Client 11.0};\"\n",
    "                                 \"SERVER=\"+data[\"server\"]+\";\"\n",
    "                                 \"DATABASE=\"+data[\"database\"]+\";\"\n",
    "                                 \"Trusted_Connection=yes\")\n",
    "\n",
    "engine = sa.create_engine(\"mssql+pyodbc:///?odbc_connect={}\".format(params))\n",
    "\n",
    "# neo4j connection\n",
    "port = \"7687\"\n",
    "user = \"neo4j\"\n",
    "pswd = \"salmon\"\n",
    "# pswd = \"trialcomposer2023\"\n",
    "\n",
    "# Make sure the database is started first, otherwise attempt to connect will fail\n",
    "try:\n",
    "    graph = Graph('bolt://localhost:'+port, auth=(user, pswd))\n",
    "    print('SUCCESS: Connected to the Neo4j Database.')\n",
    "except Exception as e:\n",
    "    print('ERROR: Could not connect to the Neo4j Database. See console for details.')\n",
    "    raise SystemExit(e)"
   ]
  },
  {
   "cell_type": "code",
   "execution_count": 8,
   "metadata": {},
   "outputs": [],
   "source": [
    "# read recipes table\n",
    "recipes = pd.read_sql_query(\"SELECT * FROM recipe;\", engine)\n",
    "ingredient = pd.read_sql_query(\"SELECT * FROM ingredient;\", engine)\n",
    "step = pd.read_sql_query(\"SELECT * FROM cooking_step;\", engine)\n",
    "\n",
    "# create recipes nodes\n",
    "for row in recipes.itertuples():\n",
    "    graph.run('''\n",
    "      CREATE (:Recipe {id: $id, name: $name})\n",
    "    ''', parameters = {'id': row.id, 'name': row.name})\n",
    "\n",
    "# create ingredient nodes\n",
    "for row in step.itertuples():\n",
    "    graph.run('''\n",
    "      CREATE (:Step {id: $id, name: $name})\n",
    "    ''', parameters = {'id': row.id, 'name': row.name})\n",
    "\n",
    "# create ingredient nodes\n",
    "for row in ingredient.itertuples():\n",
    "    graph.run('''\n",
    "      CREATE (:Ingredient {id: $id, name: $name})\n",
    "    ''', parameters = {'id': row.id, 'name': row.name})\n",
    "\n",
    "# create edges from recipe to ingredient\n",
    "for row in recipes.itertuples():\n",
    "    row_str = [row.ingredients]\n",
    "    ingredient_dict_list = [json.loads(idx.replace(\"'\", '\"')) for idx in row_str]\n",
    "    ingrdient_list = [d['id'] for d in ingredient_dict_list[0]]\n",
    "    for ing in ingrdient_list:\n",
    "        graph.run(f'''\n",
    "            MATCH (r:Recipe), (i:Ingredient) \n",
    "            WHERE r.id = {row.id} AND i.id = {ing}\n",
    "            CREATE (r)-[: HAS_INGREDIENTS]->(i) \n",
    "            ''')\n",
    "\n",
    "# create edges from recipe to step\n",
    "for row in recipes.itertuples():\n",
    "    row_str = [row.steps]\n",
    "    step_dict_list = [json.loads(idx.replace(\"'\", '\"')) for idx in row_str]\n",
    "    step_list = [d['id'] for d in step_dict_list[0]]\n",
    "    for stp in step_list:\n",
    "        graph.run(f'''\n",
    "            MATCH (r:Recipe), (s:Step) \n",
    "            WHERE r.id = {row.id} AND s.id = {stp}\n",
    "            CREATE (r)-[: HAS_STEPS]->(s) \n",
    "            ''')"
   ]
  }
 ],
 "metadata": {
  "interpreter": {
   "hash": "632a3fe63ca8a0a6fe1b755be5395503b0249bdc67ab12082ff4a36805576017"
  },
  "kernelspec": {
   "display_name": "Python 3.10.0 ('.venv': venv)",
   "language": "python",
   "name": "python3"
  },
  "language_info": {
   "codemirror_mode": {
    "name": "ipython",
    "version": 3
   },
   "file_extension": ".py",
   "mimetype": "text/x-python",
   "name": "python",
   "nbconvert_exporter": "python",
   "pygments_lexer": "ipython3",
   "version": "3.10.0"
  },
  "orig_nbformat": 4
 },
 "nbformat": 4,
 "nbformat_minor": 2
}
